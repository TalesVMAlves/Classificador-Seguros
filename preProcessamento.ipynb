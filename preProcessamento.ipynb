{
 "cells": [
  {
   "cell_type": "code",
   "execution_count": 1,
   "metadata": {},
   "outputs": [],
   "source": [
    "import pandas as pd\n",
    "df = pd.read_csv('data/insurance_data.csv', index_col=0)"
   ]
  },
  {
   "cell_type": "code",
   "execution_count": 2,
   "metadata": {},
   "outputs": [
    {
     "data": {
      "text/html": [
       "<div>\n",
       "<style scoped>\n",
       "    .dataframe tbody tr th:only-of-type {\n",
       "        vertical-align: middle;\n",
       "    }\n",
       "\n",
       "    .dataframe tbody tr th {\n",
       "        vertical-align: top;\n",
       "    }\n",
       "\n",
       "    .dataframe thead th {\n",
       "        text-align: right;\n",
       "    }\n",
       "</style>\n",
       "<table border=\"1\" class=\"dataframe\">\n",
       "  <thead>\n",
       "    <tr style=\"text-align: right;\">\n",
       "      <th></th>\n",
       "      <th>PatientID</th>\n",
       "      <th>age</th>\n",
       "      <th>gender</th>\n",
       "      <th>bmi</th>\n",
       "      <th>bloodpressure</th>\n",
       "      <th>diabetic</th>\n",
       "      <th>children</th>\n",
       "      <th>smoker</th>\n",
       "      <th>region</th>\n",
       "      <th>claim</th>\n",
       "    </tr>\n",
       "    <tr>\n",
       "      <th>index</th>\n",
       "      <th></th>\n",
       "      <th></th>\n",
       "      <th></th>\n",
       "      <th></th>\n",
       "      <th></th>\n",
       "      <th></th>\n",
       "      <th></th>\n",
       "      <th></th>\n",
       "      <th></th>\n",
       "      <th></th>\n",
       "    </tr>\n",
       "  </thead>\n",
       "  <tbody>\n",
       "    <tr>\n",
       "      <th>0</th>\n",
       "      <td>1</td>\n",
       "      <td>39.0</td>\n",
       "      <td>male</td>\n",
       "      <td>23.2</td>\n",
       "      <td>91</td>\n",
       "      <td>Yes</td>\n",
       "      <td>0</td>\n",
       "      <td>No</td>\n",
       "      <td>southeast</td>\n",
       "      <td>1121.87</td>\n",
       "    </tr>\n",
       "    <tr>\n",
       "      <th>1</th>\n",
       "      <td>2</td>\n",
       "      <td>24.0</td>\n",
       "      <td>male</td>\n",
       "      <td>30.1</td>\n",
       "      <td>87</td>\n",
       "      <td>No</td>\n",
       "      <td>0</td>\n",
       "      <td>No</td>\n",
       "      <td>southeast</td>\n",
       "      <td>1131.51</td>\n",
       "    </tr>\n",
       "    <tr>\n",
       "      <th>2</th>\n",
       "      <td>3</td>\n",
       "      <td>NaN</td>\n",
       "      <td>male</td>\n",
       "      <td>33.3</td>\n",
       "      <td>82</td>\n",
       "      <td>Yes</td>\n",
       "      <td>0</td>\n",
       "      <td>No</td>\n",
       "      <td>southeast</td>\n",
       "      <td>1135.94</td>\n",
       "    </tr>\n",
       "    <tr>\n",
       "      <th>3</th>\n",
       "      <td>4</td>\n",
       "      <td>NaN</td>\n",
       "      <td>male</td>\n",
       "      <td>33.7</td>\n",
       "      <td>80</td>\n",
       "      <td>No</td>\n",
       "      <td>0</td>\n",
       "      <td>No</td>\n",
       "      <td>northwest</td>\n",
       "      <td>1136.40</td>\n",
       "    </tr>\n",
       "    <tr>\n",
       "      <th>4</th>\n",
       "      <td>5</td>\n",
       "      <td>NaN</td>\n",
       "      <td>male</td>\n",
       "      <td>34.1</td>\n",
       "      <td>100</td>\n",
       "      <td>No</td>\n",
       "      <td>0</td>\n",
       "      <td>No</td>\n",
       "      <td>northwest</td>\n",
       "      <td>1137.01</td>\n",
       "    </tr>\n",
       "  </tbody>\n",
       "</table>\n",
       "</div>"
      ],
      "text/plain": [
       "       PatientID   age gender   bmi  bloodpressure diabetic  children smoker  \\\n",
       "index                                                                          \n",
       "0              1  39.0   male  23.2             91      Yes         0     No   \n",
       "1              2  24.0   male  30.1             87       No         0     No   \n",
       "2              3   NaN   male  33.3             82      Yes         0     No   \n",
       "3              4   NaN   male  33.7             80       No         0     No   \n",
       "4              5   NaN   male  34.1            100       No         0     No   \n",
       "\n",
       "          region    claim  \n",
       "index                      \n",
       "0      southeast  1121.87  \n",
       "1      southeast  1131.51  \n",
       "2      southeast  1135.94  \n",
       "3      northwest  1136.40  \n",
       "4      northwest  1137.01  "
      ]
     },
     "execution_count": 2,
     "metadata": {},
     "output_type": "execute_result"
    }
   ],
   "source": [
    "df.head()"
   ]
  },
  {
   "cell_type": "code",
   "execution_count": 3,
   "metadata": {},
   "outputs": [
    {
     "data": {
      "text/plain": [
       "Index(['PatientID', 'age', 'gender', 'bmi', 'bloodpressure', 'diabetic',\n",
       "       'children', 'smoker', 'region', 'claim'],\n",
       "      dtype='object')"
      ]
     },
     "execution_count": 3,
     "metadata": {},
     "output_type": "execute_result"
    }
   ],
   "source": [
    "df.columns"
   ]
  },
  {
   "cell_type": "code",
   "execution_count": 4,
   "metadata": {},
   "outputs": [
    {
     "data": {
      "text/plain": [
       "1340"
      ]
     },
     "execution_count": 4,
     "metadata": {},
     "output_type": "execute_result"
    }
   ],
   "source": [
    "len(df)"
   ]
  },
  {
   "cell_type": "code",
   "execution_count": 5,
   "metadata": {},
   "outputs": [
    {
     "data": {
      "text/plain": [
       "PatientID        0\n",
       "age              5\n",
       "gender           0\n",
       "bmi              0\n",
       "bloodpressure    0\n",
       "diabetic         0\n",
       "children         0\n",
       "smoker           0\n",
       "region           3\n",
       "claim            0\n",
       "dtype: int64"
      ]
     },
     "execution_count": 5,
     "metadata": {},
     "output_type": "execute_result"
    }
   ],
   "source": [
    "df.isnull().sum()"
   ]
  },
  {
   "cell_type": "markdown",
   "metadata": {},
   "source": [
    "## Quantidade insignificante de NAN values então irei removélos do dataset."
   ]
  },
  {
   "cell_type": "code",
   "execution_count": 6,
   "metadata": {},
   "outputs": [],
   "source": [
    "df = df.dropna()"
   ]
  },
  {
   "cell_type": "code",
   "execution_count": 7,
   "metadata": {},
   "outputs": [],
   "source": [
    "df_numerico = df.iloc[:, 1:]"
   ]
  },
  {
   "cell_type": "code",
   "execution_count": 8,
   "metadata": {},
   "outputs": [
    {
     "data": {
      "text/html": [
       "<div>\n",
       "<style scoped>\n",
       "    .dataframe tbody tr th:only-of-type {\n",
       "        vertical-align: middle;\n",
       "    }\n",
       "\n",
       "    .dataframe tbody tr th {\n",
       "        vertical-align: top;\n",
       "    }\n",
       "\n",
       "    .dataframe thead th {\n",
       "        text-align: right;\n",
       "    }\n",
       "</style>\n",
       "<table border=\"1\" class=\"dataframe\">\n",
       "  <thead>\n",
       "    <tr style=\"text-align: right;\">\n",
       "      <th></th>\n",
       "      <th>age</th>\n",
       "      <th>bmi</th>\n",
       "      <th>bloodpressure</th>\n",
       "      <th>children</th>\n",
       "      <th>claim</th>\n",
       "    </tr>\n",
       "  </thead>\n",
       "  <tbody>\n",
       "    <tr>\n",
       "      <th>count</th>\n",
       "      <td>1332.000000</td>\n",
       "      <td>1332.000000</td>\n",
       "      <td>1332.000000</td>\n",
       "      <td>1332.000000</td>\n",
       "      <td>1332.000000</td>\n",
       "    </tr>\n",
       "    <tr>\n",
       "      <th>mean</th>\n",
       "      <td>38.086336</td>\n",
       "      <td>30.658333</td>\n",
       "      <td>94.189189</td>\n",
       "      <td>1.099850</td>\n",
       "      <td>13325.246426</td>\n",
       "    </tr>\n",
       "    <tr>\n",
       "      <th>std</th>\n",
       "      <td>11.112804</td>\n",
       "      <td>6.118967</td>\n",
       "      <td>11.445173</td>\n",
       "      <td>1.205958</td>\n",
       "      <td>12109.620712</td>\n",
       "    </tr>\n",
       "    <tr>\n",
       "      <th>min</th>\n",
       "      <td>18.000000</td>\n",
       "      <td>16.000000</td>\n",
       "      <td>80.000000</td>\n",
       "      <td>0.000000</td>\n",
       "      <td>1121.870000</td>\n",
       "    </tr>\n",
       "    <tr>\n",
       "      <th>25%</th>\n",
       "      <td>29.000000</td>\n",
       "      <td>26.200000</td>\n",
       "      <td>86.000000</td>\n",
       "      <td>0.000000</td>\n",
       "      <td>4760.157500</td>\n",
       "    </tr>\n",
       "    <tr>\n",
       "      <th>50%</th>\n",
       "      <td>38.000000</td>\n",
       "      <td>30.350000</td>\n",
       "      <td>92.000000</td>\n",
       "      <td>1.000000</td>\n",
       "      <td>9412.965000</td>\n",
       "    </tr>\n",
       "    <tr>\n",
       "      <th>75%</th>\n",
       "      <td>47.000000</td>\n",
       "      <td>34.725000</td>\n",
       "      <td>99.000000</td>\n",
       "      <td>2.000000</td>\n",
       "      <td>16781.327500</td>\n",
       "    </tr>\n",
       "    <tr>\n",
       "      <th>max</th>\n",
       "      <td>60.000000</td>\n",
       "      <td>53.100000</td>\n",
       "      <td>140.000000</td>\n",
       "      <td>5.000000</td>\n",
       "      <td>63770.430000</td>\n",
       "    </tr>\n",
       "  </tbody>\n",
       "</table>\n",
       "</div>"
      ],
      "text/plain": [
       "               age          bmi  bloodpressure     children         claim\n",
       "count  1332.000000  1332.000000    1332.000000  1332.000000   1332.000000\n",
       "mean     38.086336    30.658333      94.189189     1.099850  13325.246426\n",
       "std      11.112804     6.118967      11.445173     1.205958  12109.620712\n",
       "min      18.000000    16.000000      80.000000     0.000000   1121.870000\n",
       "25%      29.000000    26.200000      86.000000     0.000000   4760.157500\n",
       "50%      38.000000    30.350000      92.000000     1.000000   9412.965000\n",
       "75%      47.000000    34.725000      99.000000     2.000000  16781.327500\n",
       "max      60.000000    53.100000     140.000000     5.000000  63770.430000"
      ]
     },
     "execution_count": 8,
     "metadata": {},
     "output_type": "execute_result"
    }
   ],
   "source": [
    "df_numerico.describe()"
   ]
  },
  {
   "cell_type": "markdown",
   "metadata": {},
   "source": [
    "## Não parece ter nenhum dado que chame muita atenção principalmente nas colunas inteiras, vamos calcular o IQR das colunas numéricas para observarmos se realmente os dados estão seguindo uma distribuição normal ou não."
   ]
  },
  {
   "cell_type": "code",
   "execution_count": null,
   "metadata": {},
   "outputs": [
    {
     "name": "stdout",
     "output_type": "stream",
     "text": [
      "Não foram encontrados outliers significativos na coluna 'age'.\n",
      "--------------------------------------------------\n",
      "Outliers removidos da coluna 'bmi':\n",
      "index\n",
      "9       53.1\n",
      "141     50.4\n",
      "675     48.1\n",
      "696     47.7\n",
      "802     49.1\n",
      "1299    52.6\n",
      "1306    47.6\n",
      "Name: bmi, dtype: float64\n",
      "Quantidade de outliers removidos: 7\n",
      "--------------------------------------------------\n",
      "Outliers removidos da coluna 'bloodpressure':\n",
      "1134    128\n",
      "1137    135\n",
      "1139    128\n",
      "1140    126\n",
      "1141    126\n",
      "       ... \n",
      "1310    133\n",
      "1317    120\n",
      "1318    127\n",
      "1319    125\n",
      "1321    120\n",
      "Name: bloodpressure, Length: 62, dtype: int64\n",
      "Quantidade de outliers removidos: 62\n",
      "--------------------------------------------------\n",
      "Não foram encontrados outliers significativos na coluna 'children'.\n",
      "--------------------------------------------------\n",
      "Outliers removidos da coluna 'claim':\n",
      "1148    28868.66\n",
      "1149    28923.14\n",
      "1150    28950.47\n",
      "1151    29186.48\n",
      "1152    29330.98\n",
      "          ...   \n",
      "1258    48970.25\n",
      "1259    55135.40\n",
      "1260    60021.40\n",
      "1261    62592.87\n",
      "1262    63770.43\n",
      "Name: claim, Length: 115, dtype: float64\n",
      "Quantidade de outliers removidos: 115\n",
      "--------------------------------------------------\n",
      "DataFrame após remoção de outliers:\n",
      "    age gender   bmi  bloodpressure diabetic  children smoker     region  \\\n",
      "0  39.0   male  23.2             91      Yes         0     No  southeast   \n",
      "1  24.0   male  30.1             87       No         0     No  southeast   \n",
      "2  19.0   male  41.1            100       No         0     No  northwest   \n",
      "3  20.0   male  43.0             86       No         0     No  northwest   \n",
      "4  36.0   male  19.8             88      Yes         0     No  northwest   \n",
      "\n",
      "     claim  \n",
      "0  1121.87  \n",
      "1  1131.51  \n",
      "2  1146.80  \n",
      "3  1149.40  \n",
      "4  1241.57  \n"
     ]
    }
   ],
   "source": [
    "def remover_outliers_iqr(df_numerico):\n",
    "    \"\"\"\n",
    "    Remove outliers de um DataFrame numérico usando o método IQR.\n",
    "\n",
    "    Para cada coluna numérica, identifica outliers usando o intervalo interquartil (IQR)\n",
    "    e remove as linhas que contêm outliers em qualquer coluna.\n",
    "\n",
    "    Args:\n",
    "        df_numerico: DataFrame pandas contendo apenas colunas numéricas.\n",
    "\n",
    "    Returns:\n",
    "        DataFrame pandas com os outliers removidos.\n",
    "    \"\"\"\n",
    "    df_sem_outliers = df_numerico.copy() # Cria uma cópia para não modificar o DataFrame original diretamente\n",
    "\n",
    "    for column in df_sem_outliers.columns:\n",
    "        if pd.api.types.is_numeric_dtype(df_sem_outliers[column]): # Para pegar apenas as colunas númericas e ignorar boolean\n",
    "            Q1 = df_sem_outliers[column].quantile(0.25)\n",
    "            Q3 = df_sem_outliers[column].quantile(0.75)\n",
    "            IQR = Q3 - Q1\n",
    "\n",
    "            limite_inferior = Q1 - 1.5 * IQR\n",
    "            limite_superior = Q3 + 1.5 * IQR\n",
    "\n",
    "            outliers = df_sem_outliers[(df_sem_outliers[column] < limite_inferior) | (df_sem_outliers[column] > limite_superior)]\n",
    "\n",
    "            if not outliers.empty:\n",
    "                print(f\"Outliers removidos da coluna '{column}':\")\n",
    "                print(outliers[column])\n",
    "                print(f\"Quantidade de outliers removidos: {len(outliers)}\")\n",
    "\n",
    "                # Remove as linhas que contêm outliers da coluna atual\n",
    "                df_sem_outliers = df_sem_outliers.drop(outliers.index) # Remove as linhas com os índices dos outliers\n",
    "                df_sem_outliers = df_sem_outliers.reset_index(drop=True) # Reseta o índice após a remoção\n",
    "\n",
    "                print(\"-\" * 50)\n",
    "            else:\n",
    "                print(f\"Não foram encontrados outliers significativos na coluna '{column}'.\")\n",
    "                print(\"-\" * 50)\n",
    "\n",
    "    print(\"DataFrame após remoção de outliers:\")\n",
    "    print(df_sem_outliers.head()) # Mostra as primeiras linhas do DataFrame resultante\n",
    "    return df_sem_outliers\n",
    "\n",
    "df_sem_outliers = remover_outliers_iqr(df_numerico)"
   ]
  },
  {
   "cell_type": "markdown",
   "metadata": {},
   "source": [
    "## A intuição inicial estava errada e existem uma grande quantidade de outliers, principalmente na coluna de claim, coluna essa que será o nosso rótulo"
   ]
  },
  {
   "cell_type": "markdown",
   "metadata": {},
   "source": [
    "## Vamos utilizar a coluna de Claim como nosso target para o classificador, assim vamos fazer uma análise da distriuição desses dados."
   ]
  },
  {
   "cell_type": "code",
   "execution_count": 21,
   "metadata": {},
   "outputs": [
    {
     "data": {
      "image/png": "[encoded data removed]",
      "text/plain": [
       "<Figure size 640x480 with 1 Axes>"
      ]
     },
     "metadata": {},
     "output_type": "display_data"
    }
   ],
   "source": [
    "import seaborn as sns\n",
    "import matplotlib.pyplot as plt\n",
    "\n",
    "sns.histplot(data=df['claim'], kde=True, bins=30)\n",
    "plt.title('Histograma da Distribuição de Claim')\n",
    "plt.xlabel('Valor do Claim')\n",
    "plt.ylabel('Frequência')\n",
    "plt.grid(axis='y')\n",
    "plt.show()"
   ]
  },
  {
   "cell_type": "markdown",
   "metadata": {},
   "source": [
    "## Vamos extrair o nosso dataframe com o pré processamento"
   ]
  },
  {
   "cell_type": "code",
   "execution_count": 23,
   "metadata": {},
   "outputs": [],
   "source": [
    "df_sem_outliers.to_csv('artefatos/insurance_data_sem_outliers.csv', index=False)"
   ]
  }
 ],
 "metadata": {
  "kernelspec": {
   "display_name": ".venv",
   "language": "python",
   "name": "python3"
  },
  "language_info": {
   "codemirror_mode": {
    "name": "ipython",
    "version": 3
   },
   "file_extension": ".py",
   "mimetype": "text/x-python",
   "name": "python",
   "nbconvert_exporter": "python",
   "pygments_lexer": "ipython3",
   "version": "3.10.11"
  }
 },
 "nbformat": 4,
 "nbformat_minor": 2
}
